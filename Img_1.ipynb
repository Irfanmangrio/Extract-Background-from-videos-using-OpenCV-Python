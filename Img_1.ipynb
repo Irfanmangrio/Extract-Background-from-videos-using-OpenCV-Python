{
  "nbformat": 4,
  "nbformat_minor": 0,
  "metadata": {
    "colab": {
      "name": "Img 1.ipynb",
      "private_outputs": true,
      "provenance": [],
      "mount_file_id": "1QyIiTNogzz24yaW7iaVpZ57YKG_EdHGq",
      "authorship_tag": "ABX9TyPv2Mqu552yII4Q/EeE1GDg",
      "include_colab_link": true
    },
    "kernelspec": {
      "name": "python3",
      "display_name": "Python 3"
    },
    "accelerator": "GPU"
  },
  "cells": [
    {
      "cell_type": "markdown",
      "metadata": {
        "id": "view-in-github",
        "colab_type": "text"
      },
      "source": [
        "<a href=\"https://colab.research.google.com/github/Irfanmangrio/Extract-Background-from-videos-using-OpenCV-Python/blob/main/Img_1.ipynb\" target=\"_parent\"><img src=\"https://colab.research.google.com/assets/colab-badge.svg\" alt=\"Open In Colab\"/></a>"
      ]
    },
    {
      "cell_type": "markdown",
      "metadata": {
        "id": "Omev4Zzv0hsI"
      },
      "source": [
        "open image in google google colab"
      ]
    },
    {
      "cell_type": "code",
      "metadata": {
        "id": "3_X9FZK0yFs6"
      },
      "source": [
        "from google.colab import files\n",
        "from IPython.display import Image"
      ],
      "execution_count": null,
      "outputs": []
    },
    {
      "cell_type": "code",
      "metadata": {
        "id": "MHObPMk3yqrN"
      },
      "source": [
        "Upload = files.upload()"
      ],
      "execution_count": null,
      "outputs": []
    },
    {
      "cell_type": "code",
      "metadata": {
        "id": "It-C10F8y-N8"
      },
      "source": [
        "Image('IMG-20200303-WA0069.jpg',\n",
        "       width =525)"
      ],
      "execution_count": null,
      "outputs": []
    },
    {
      "cell_type": "markdown",
      "metadata": {
        "id": "CjPlAlIV0Y-g"
      },
      "source": [
        "open image in google colab finish"
      ]
    }
  ]
}